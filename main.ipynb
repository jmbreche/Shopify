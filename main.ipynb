{
 "cells": [
  {
   "cell_type": "markdown",
   "metadata": {
    "collapsed": true,
    "pycharm": {
     "name": "#%% md\n"
    }
   },
   "source": [
    "# Question 1\n",
    "\n",
    "On Shopify, we have exactly 100 sneaker shops, and each of these shops sells only one model of shoe. We want to do some analysis of the average order value (AOV). When we look at orders data over a 30 day window, we naively calculate an AOV of $3145.13. Given that we know these shops are selling sneakers, a relatively affordable item, something seems wrong with our analysis."
   ]
  },
  {
   "cell_type": "markdown",
   "source": [
    "### Average Analysis"
   ],
   "metadata": {
    "collapsed": false,
    "pycharm": {
     "name": "#%% md\n"
    }
   }
  },
  {
   "cell_type": "code",
   "execution_count": 1,
   "outputs": [
    {
     "name": "stdout",
     "output_type": "stream",
     "text": [
      "\n",
      "Variables: ['shop_id', 'user_id', 'order_amount', 'total_items', 'payment_method', 'created_at']\n",
      "AOV: $3,145.13\n",
      "ASV: $387.74\n"
     ]
    }
   ],
   "source": [
    "import pandas as pd\n",
    "import numpy as np\n",
    "\n",
    "# Read CSV\n",
    "df = pd.read_csv(\"sneakers.csv\", index_col=\"order_id\").dropna()\n",
    "\n",
    "# Print variables\n",
    "print(\"\\nVariables:\", list(df.columns))\n",
    "\n",
    "# Conduct naive average order value (AOV) calculation\n",
    "print(\"AOV:\", \"${:,.2f}\".format(np.average(df[\"order_amount\"])))\n",
    "\n",
    "# Conduct more sensible average shoe value (ASV) calculation\n",
    "print(\"ASV:\", \"${:,.2f}\".format(np.average(df[\"order_amount\"]/df[\"total_items\"])))"
   ],
   "metadata": {
    "collapsed": false,
    "pycharm": {
     "name": "#%%\n"
    }
   }
  },
  {
   "cell_type": "markdown",
   "source": [
    "We begin this section by reading in the .csv file that was provided. The data appears relatively clean, so we will simply drop all empty values and proceed with our analysis. Our second step is to explore our data by listing its variable names. Using these columns, we must calculate average order value and average shoe value."
   ],
   "metadata": {
    "collapsed": false,
    "pycharm": {
     "name": "#%% md\n"
    }
   }
  },
  {
   "cell_type": "markdown",
   "source": [
    "### Outlier Analysis"
   ],
   "metadata": {
    "collapsed": false,
    "pycharm": {
     "name": "#%% md\n"
    }
   }
  },
  {
   "cell_type": "code",
   "execution_count": 2,
   "outputs": [
    {
     "name": "stdout",
     "output_type": "stream",
     "text": [
      "\n"
     ]
    },
    {
     "data": {
      "text/plain": "          shop_id  user_id  order_amount  total_items payment_method  \\\norder_id                                                               \n1363           42      607        704000         2000    credit_card   \n4057           42      607        704000         2000    credit_card   \n2970           42      607        704000         2000    credit_card   \n4647           42      607        704000         2000    credit_card   \n16             42      607        704000         2000    credit_card   \n\n                  created_at    z-score  \norder_id                                 \n1363      2017-03-15 4:00:00  17.120069  \n4057      2017-03-28 4:00:00  17.120069  \n2970      2017-03-28 4:00:00  17.120069  \n4647      2017-03-02 4:00:00  17.120069  \n16        2017-03-07 4:00:00  17.120069  ",
      "text/html": "<div>\n<style scoped>\n    .dataframe tbody tr th:only-of-type {\n        vertical-align: middle;\n    }\n\n    .dataframe tbody tr th {\n        vertical-align: top;\n    }\n\n    .dataframe thead th {\n        text-align: right;\n    }\n</style>\n<table border=\"1\" class=\"dataframe\">\n  <thead>\n    <tr style=\"text-align: right;\">\n      <th></th>\n      <th>shop_id</th>\n      <th>user_id</th>\n      <th>order_amount</th>\n      <th>total_items</th>\n      <th>payment_method</th>\n      <th>created_at</th>\n      <th>z-score</th>\n    </tr>\n    <tr>\n      <th>order_id</th>\n      <th></th>\n      <th></th>\n      <th></th>\n      <th></th>\n      <th></th>\n      <th></th>\n      <th></th>\n    </tr>\n  </thead>\n  <tbody>\n    <tr>\n      <th>1363</th>\n      <td>42</td>\n      <td>607</td>\n      <td>704000</td>\n      <td>2000</td>\n      <td>credit_card</td>\n      <td>2017-03-15 4:00:00</td>\n      <td>17.120069</td>\n    </tr>\n    <tr>\n      <th>4057</th>\n      <td>42</td>\n      <td>607</td>\n      <td>704000</td>\n      <td>2000</td>\n      <td>credit_card</td>\n      <td>2017-03-28 4:00:00</td>\n      <td>17.120069</td>\n    </tr>\n    <tr>\n      <th>2970</th>\n      <td>42</td>\n      <td>607</td>\n      <td>704000</td>\n      <td>2000</td>\n      <td>credit_card</td>\n      <td>2017-03-28 4:00:00</td>\n      <td>17.120069</td>\n    </tr>\n    <tr>\n      <th>4647</th>\n      <td>42</td>\n      <td>607</td>\n      <td>704000</td>\n      <td>2000</td>\n      <td>credit_card</td>\n      <td>2017-03-02 4:00:00</td>\n      <td>17.120069</td>\n    </tr>\n    <tr>\n      <th>16</th>\n      <td>42</td>\n      <td>607</td>\n      <td>704000</td>\n      <td>2000</td>\n      <td>credit_card</td>\n      <td>2017-03-07 4:00:00</td>\n      <td>17.120069</td>\n    </tr>\n  </tbody>\n</table>\n</div>"
     },
     "metadata": {},
     "output_type": "display_data"
    },
    {
     "data": {
      "text/plain": "          shop_id  user_id  order_amount  total_items payment_method  \\\norder_id                                                               \n692            78      878        154350            6          debit   \n2493           78      834        102900            4          debit   \n1260           78      775         77175            3    credit_card   \n2907           78      817         77175            3          debit   \n4193           78      787         77175            3    credit_card   \n\n                   created_at    z-score  \norder_id                                  \n692       2017-03-27 22:51:43  28.906408  \n2493       2017-03-04 4:37:34  19.223633  \n1260       2017-03-27 9:27:20  14.382245  \n2907       2017-03-16 3:45:46  14.382245  \n4193       2017-03-18 9:25:32  14.382245  ",
      "text/html": "<div>\n<style scoped>\n    .dataframe tbody tr th:only-of-type {\n        vertical-align: middle;\n    }\n\n    .dataframe tbody tr th {\n        vertical-align: top;\n    }\n\n    .dataframe thead th {\n        text-align: right;\n    }\n</style>\n<table border=\"1\" class=\"dataframe\">\n  <thead>\n    <tr style=\"text-align: right;\">\n      <th></th>\n      <th>shop_id</th>\n      <th>user_id</th>\n      <th>order_amount</th>\n      <th>total_items</th>\n      <th>payment_method</th>\n      <th>created_at</th>\n      <th>z-score</th>\n    </tr>\n    <tr>\n      <th>order_id</th>\n      <th></th>\n      <th></th>\n      <th></th>\n      <th></th>\n      <th></th>\n      <th></th>\n      <th></th>\n    </tr>\n  </thead>\n  <tbody>\n    <tr>\n      <th>692</th>\n      <td>78</td>\n      <td>878</td>\n      <td>154350</td>\n      <td>6</td>\n      <td>debit</td>\n      <td>2017-03-27 22:51:43</td>\n      <td>28.906408</td>\n    </tr>\n    <tr>\n      <th>2493</th>\n      <td>78</td>\n      <td>834</td>\n      <td>102900</td>\n      <td>4</td>\n      <td>debit</td>\n      <td>2017-03-04 4:37:34</td>\n      <td>19.223633</td>\n    </tr>\n    <tr>\n      <th>1260</th>\n      <td>78</td>\n      <td>775</td>\n      <td>77175</td>\n      <td>3</td>\n      <td>credit_card</td>\n      <td>2017-03-27 9:27:20</td>\n      <td>14.382245</td>\n    </tr>\n    <tr>\n      <th>2907</th>\n      <td>78</td>\n      <td>817</td>\n      <td>77175</td>\n      <td>3</td>\n      <td>debit</td>\n      <td>2017-03-16 3:45:46</td>\n      <td>14.382245</td>\n    </tr>\n    <tr>\n      <th>4193</th>\n      <td>78</td>\n      <td>787</td>\n      <td>77175</td>\n      <td>3</td>\n      <td>credit_card</td>\n      <td>2017-03-18 9:25:32</td>\n      <td>14.382245</td>\n    </tr>\n  </tbody>\n</table>\n</div>"
     },
     "metadata": {},
     "output_type": "display_data"
    },
    {
     "name": "stdout",
     "output_type": "stream",
     "text": [
      "Typical order sizes: {1, 2, 3, 4} \n",
      "\n",
      "Average AOV of order Size 1: $151.85\n",
      "Average AOV of order Size 2: $151.76\n",
      "Average AOV of order Size 3: $152.44\n",
      "Average AOV of order Size 4: $149.63\n"
     ]
    }
   ],
   "source": [
    "from scipy import stats\n",
    "from IPython.display import display\n",
    "\n",
    "# Spacing\n",
    "print()\n",
    "\n",
    "# Calculate z-scores for \"order_amount\" and \"total_items\"\n",
    "df[\"z-score\"] = np.abs(stats.zscore(df[[\"order_amount\", \"total_items\"]])).values.max(1)\n",
    "df = df.sort_values(\"z-score\", ascending=False)\n",
    "display(df[df[\"z-score\"] > 3].head(5))\n",
    "\n",
    "# Remove obvious outlier\n",
    "df = df[df[\"user_id\"] != 607]\n",
    "\n",
    "# Calculate new z-scores for \"order_amount\" and \"total_items\" after removing outlier\n",
    "df[\"z-score\"] = np.abs(stats.zscore(df[[\"order_amount\", \"total_items\"]])).values.max(1)\n",
    "df = df.sort_values(\"z-score\", ascending=False)\n",
    "display(df[df[\"z-score\"] > 3].head(5))\n",
    "\n",
    "# Find non-outlier observations\n",
    "inliers = df[df[\"z-score\"] < 3]\n",
    "\n",
    "# Find how many shoes the typical customer orders\n",
    "inlier_sizes = set(inliers[\"total_items\"])\n",
    "print(\"Typical order sizes:\", inlier_sizes, \"\\n\")\n",
    "\n",
    "# Find the average order amount associated with typical customers\n",
    "inlier_avgs = [np.average(inliers[inliers[\"total_items\"] == x][\"order_amount\"]) for x in inlier_sizes]\n",
    "\n",
    "# Cycle through each order size to check for any discernible relationship with order amount\n",
    "for i, n in zip(inlier_sizes, inlier_avgs):\n",
    "    print(\"Average AOV of order Size \", i, \": \", \"${:,.2f}\".format(n/i), sep=\"\")\n",
    "\n",
    "# Correct observations that appear to be outliers\n",
    "df[\"order_amount\"] = np.where(df[\"z-score\"] > 3, 150 * df[\"total_items\"], df[\"order_amount\"])"
   ],
   "metadata": {
    "collapsed": false,
    "pycharm": {
     "name": "#%%\n"
    }
   }
  },
  {
   "cell_type": "markdown",
   "source": [
    "In this section, we must remove outliers to find more useful estimate(s) of value. To do this, we calculate the z-scores of `order_amount` and `total_items`. We then store the maximum of these two z-scores because we do not need to distinguish between which variable is unusual. Next, we remove user 607 because their orders are both repetitive and unusual. We then conduct this analysis a second time. We find the AOV associated with a typical customer. Finally, we apply this average to our outliers and adjust for order size."
   ],
   "metadata": {
    "collapsed": false,
    "pycharm": {
     "name": "#%% md\n"
    }
   }
  },
  {
   "cell_type": "markdown",
   "source": [
    "### New Average Analysis"
   ],
   "metadata": {
    "collapsed": false,
    "pycharm": {
     "name": "#%% md\n"
    }
   }
  },
  {
   "cell_type": "code",
   "execution_count": 3,
   "outputs": [
    {
     "name": "stdout",
     "output_type": "stream",
     "text": [
      "\n",
      "New AOV: $302.34\n",
      "New ASV: $151.75\n"
     ]
    }
   ],
   "source": [
    "# Conduct new AOV calculation\n",
    "print(\"\\nNew AOV:\", \"${:,.2f}\".format(np.average(df[\"order_amount\"])))\n",
    "\n",
    "# Conduct new ASV calculation\n",
    "print(\"New ASV:\", \"${:,.2f}\".format(np.average(df[\"order_amount\"]/df[\"total_items\"])))"
   ],
   "metadata": {
    "collapsed": false,
    "pycharm": {
     "name": "#%%\n"
    }
   }
  },
  {
   "cell_type": "markdown",
   "source": [
    "Here, we must recalculate average order value and average shoe value."
   ],
   "metadata": {
    "collapsed": false,
    "pycharm": {
     "name": "#%% md\n"
    }
   }
  },
  {
   "cell_type": "markdown",
   "source": [
    "#### A) What could be going wrong with our calculation?\n",
    "There are two issues that are leading to the perceived \"error\". Firstly, what was calculated was average order value while what we are interested in is average shoe value. That is, the average order consists of multiple shoes. Secondly, we failed to preclude the possibility of outliers before conducting our analysis.\n",
    "\n",
    "#### B) What metric should we report for this dataset?\n",
    "We should report average shoe value alongside average order value with an emphasis on the meaning of both.\n",
    "\n",
    "#### C) What is its value?\n",
    "The average <i>order</i> value is <span>$</span>302.34. The average <i>shoe</i> value is <span>$</span>151.75"
   ],
   "metadata": {
    "collapsed": false,
    "pycharm": {
     "name": "#%% md\n"
    }
   }
  },
  {
   "cell_type": "markdown",
   "source": [
    "# Question 2\n",
    "\n",
    "For this question we’ll need to use SQL queries."
   ],
   "metadata": {
    "collapsed": false
   }
  },
  {
   "cell_type": "markdown",
   "source": [
    "### First Query\n",
    "\n",
    "<code style=\"width: 100%;\">SELECT COUNT(*) FROM Orders <span style=\"color: #008000\">-- Select number of orders</span>\n",
    " JOIN Shippers ON Shippers.ShipperID = Orders.ShipperID <span style=\"color: #008000\">-- Retrieve shipping information</span>\n",
    " WHERE ShipperName = \"Speedy Express\" <span style=\"color: #008000\">-- Filter out other shippers</span>\n",
    "<br>Number of Records: 1\n",
    " COUNT(*)\n",
    " 54\n",
    "</code>\n",
    "\n",
    "### Second Query\n",
    "\n",
    "<code style=\"width: 100%;\">SELECT LastName, COUNT(*) FROM <span style=\"color: #008000\">-- Select number of orders for each LastName</span>\n",
    " (\n",
    "  SELECT * FROM Orders\n",
    "  JOIN Employees ON Employees.EmployeeID = Orders.EmployeeID <span style=\"color: #008000\">-- Retrieve employee information</span>\n",
    " )\n",
    " GROUP BY LastName\n",
    " ORDER BY COUNT(*) DESC <span style=\"color: #008000\">-- Put the best employee at top</span>\n",
    " LIMIT 1 <span style=\"color: #008000\">-- Select only the best employee</span>\n",
    "<br>Number of Records: 1\n",
    " LastName       COUNT(*)\n",
    " Peacock        40\n",
    "</code>\n",
    "\n",
    "### Third Query\n",
    "\n",
    "<code style=\"display: block; width: 100%;\">SELECT ProductName, COUNT(*) FROM <span style=\"color: #008000\">-- Select number of orders for each product</span>\n",
    " (\n",
    "  SELECT * FROM Orders <span style=\"color: #008000\">-- Select Orders</span>\n",
    "  JOIN Customers ON Customers.CustomerID = Orders.CustomerID <span style=\"color: #008000\">-- Retrieve customer information</span>\n",
    "  JOIN OrderDetails ON OrderDetails.OrderID = Orders.OrderID <span style=\"color: #008000\">-- Retrieve order details</span>\n",
    "  JOIN Products ON Products.ProductID = OrderDetails.ProductID <span style=\"color: #008000\">-- Retrieve product information</span>\n",
    "  WHERE Country = \"Germany\" <span style=\"color: #008000\">-- Filter out non-German customers</span>\n",
    " )\n",
    " GROUP BY ProductName\n",
    " ORDER BY COUNT(*) DESC <span style=\"color: #008000\">-- Put the best product at top</span>\n",
    " LIMIT 1 <span style=\"color: #008000\">-- Select only the best product</span>\n",
    "<br>Number of Records: 1\n",
    " ProductName            COUNT(*)\n",
    " Gorgonzola Telino      5\n",
    "</code>"
   ],
   "metadata": {
    "collapsed": false,
    "pycharm": {
     "name": "#%% md\n"
    }
   }
  },
  {
   "cell_type": "markdown",
   "source": [
    "#### A) How many orders were shipped by Speedy Express in total?\n",
    "According to our first query, Speedy Express shipped 54 orders.\n",
    ">54\n",
    "\n",
    "#### B) What is the last name of the employee with the most orders?\n",
    "According to our second query, Mrs. Peacock had 40 orders.\n",
    ">Peacock\n",
    "\n",
    "#### C) What product was ordered the most by customers in Germany?\n",
    "According to our third query, Gorgonzola Telino was the product most ordered by Germans.\n",
    ">Gorgonzola Telino"
   ],
   "metadata": {
    "collapsed": false,
    "pycharm": {
     "name": "#%% md\n"
    }
   }
  }
 ],
 "metadata": {
  "kernelspec": {
   "display_name": "Python 3",
   "language": "python",
   "name": "python3"
  },
  "language_info": {
   "codemirror_mode": {
    "name": "ipython",
    "version": 2
   },
   "file_extension": ".py",
   "mimetype": "text/x-python",
   "name": "python",
   "nbconvert_exporter": "python",
   "pygments_lexer": "ipython2",
   "version": "2.7.6"
  }
 },
 "nbformat": 4,
 "nbformat_minor": 0
}